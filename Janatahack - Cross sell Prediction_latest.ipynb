{
 "cells": [
  {
   "cell_type": "code",
   "execution_count": 1,
   "id": "a7f8c524",
   "metadata": {},
   "outputs": [],
   "source": [
    "import numpy as np\n",
    "import pandas as pd\n",
    "import matplotlib.pyplot as plt\n",
    "from sklearn.metrics import mean_squared_error, r2_score\n",
    "from sklearn.model_selection import train_test_split\n",
    "import seaborn as sns\n",
    "from sklearn.preprocessing import StandardScaler\n",
    "from sklearn.linear_model import LogisticRegression\n",
    "from sklearn.metrics import accuracy_score, confusion_matrix, precision_score, recall_score, f1_score"
   ]
  },
  {
   "cell_type": "code",
   "execution_count": 2,
   "id": "af839125",
   "metadata": {},
   "outputs": [],
   "source": [
    "%matplotlib inline\n",
    "import warnings \n",
    "warnings.filterwarnings(\"ignore\")"
   ]
  },
  {
   "cell_type": "code",
   "execution_count": 3,
   "id": "dffa15eb",
   "metadata": {},
   "outputs": [],
   "source": [
    "train_data=pd.read_csv(r'C:\\Users\\user\\Downloads\\train.csv_VsW9EGx\\train.csv')\n",
    "test_data=pd.read_csv(r'C:\\Users\\user\\Downloads\\test.csv_yAFwdy2\\test.csv')\n",
    "submission=pd.read_csv(r'C:\\Users\\user\\Downloads\\sample_submission_iA3afxn.csv')"
   ]
  },
  {
   "cell_type": "code",
   "execution_count": 4,
   "id": "6148bd3a",
   "metadata": {},
   "outputs": [
    {
     "data": {
      "text/html": [
       "<div>\n",
       "<style scoped>\n",
       "    .dataframe tbody tr th:only-of-type {\n",
       "        vertical-align: middle;\n",
       "    }\n",
       "\n",
       "    .dataframe tbody tr th {\n",
       "        vertical-align: top;\n",
       "    }\n",
       "\n",
       "    .dataframe thead th {\n",
       "        text-align: right;\n",
       "    }\n",
       "</style>\n",
       "<table border=\"1\" class=\"dataframe\">\n",
       "  <thead>\n",
       "    <tr style=\"text-align: right;\">\n",
       "      <th></th>\n",
       "      <th>id</th>\n",
       "      <th>Gender</th>\n",
       "      <th>Age</th>\n",
       "      <th>Driving_License</th>\n",
       "      <th>Region_Code</th>\n",
       "      <th>Previously_Insured</th>\n",
       "      <th>Vehicle_Age</th>\n",
       "      <th>Vehicle_Damage</th>\n",
       "      <th>Annual_Premium</th>\n",
       "      <th>Policy_Sales_Channel</th>\n",
       "      <th>Vintage</th>\n",
       "      <th>Response</th>\n",
       "    </tr>\n",
       "  </thead>\n",
       "  <tbody>\n",
       "    <tr>\n",
       "      <th>0</th>\n",
       "      <td>1</td>\n",
       "      <td>Male</td>\n",
       "      <td>44</td>\n",
       "      <td>1</td>\n",
       "      <td>28.0</td>\n",
       "      <td>0</td>\n",
       "      <td>&gt; 2 Years</td>\n",
       "      <td>Yes</td>\n",
       "      <td>40454.0</td>\n",
       "      <td>26.0</td>\n",
       "      <td>217</td>\n",
       "      <td>1</td>\n",
       "    </tr>\n",
       "    <tr>\n",
       "      <th>1</th>\n",
       "      <td>2</td>\n",
       "      <td>Male</td>\n",
       "      <td>76</td>\n",
       "      <td>1</td>\n",
       "      <td>3.0</td>\n",
       "      <td>0</td>\n",
       "      <td>1-2 Year</td>\n",
       "      <td>No</td>\n",
       "      <td>33536.0</td>\n",
       "      <td>26.0</td>\n",
       "      <td>183</td>\n",
       "      <td>0</td>\n",
       "    </tr>\n",
       "    <tr>\n",
       "      <th>2</th>\n",
       "      <td>3</td>\n",
       "      <td>Male</td>\n",
       "      <td>47</td>\n",
       "      <td>1</td>\n",
       "      <td>28.0</td>\n",
       "      <td>0</td>\n",
       "      <td>&gt; 2 Years</td>\n",
       "      <td>Yes</td>\n",
       "      <td>38294.0</td>\n",
       "      <td>26.0</td>\n",
       "      <td>27</td>\n",
       "      <td>1</td>\n",
       "    </tr>\n",
       "    <tr>\n",
       "      <th>3</th>\n",
       "      <td>4</td>\n",
       "      <td>Male</td>\n",
       "      <td>21</td>\n",
       "      <td>1</td>\n",
       "      <td>11.0</td>\n",
       "      <td>1</td>\n",
       "      <td>&lt; 1 Year</td>\n",
       "      <td>No</td>\n",
       "      <td>28619.0</td>\n",
       "      <td>152.0</td>\n",
       "      <td>203</td>\n",
       "      <td>0</td>\n",
       "    </tr>\n",
       "    <tr>\n",
       "      <th>4</th>\n",
       "      <td>5</td>\n",
       "      <td>Female</td>\n",
       "      <td>29</td>\n",
       "      <td>1</td>\n",
       "      <td>41.0</td>\n",
       "      <td>1</td>\n",
       "      <td>&lt; 1 Year</td>\n",
       "      <td>No</td>\n",
       "      <td>27496.0</td>\n",
       "      <td>152.0</td>\n",
       "      <td>39</td>\n",
       "      <td>0</td>\n",
       "    </tr>\n",
       "  </tbody>\n",
       "</table>\n",
       "</div>"
      ],
      "text/plain": [
       "   id  Gender  Age  Driving_License  Region_Code  Previously_Insured  \\\n",
       "0   1    Male   44                1         28.0                   0   \n",
       "1   2    Male   76                1          3.0                   0   \n",
       "2   3    Male   47                1         28.0                   0   \n",
       "3   4    Male   21                1         11.0                   1   \n",
       "4   5  Female   29                1         41.0                   1   \n",
       "\n",
       "  Vehicle_Age Vehicle_Damage  Annual_Premium  Policy_Sales_Channel  Vintage  \\\n",
       "0   > 2 Years            Yes         40454.0                  26.0      217   \n",
       "1    1-2 Year             No         33536.0                  26.0      183   \n",
       "2   > 2 Years            Yes         38294.0                  26.0       27   \n",
       "3    < 1 Year             No         28619.0                 152.0      203   \n",
       "4    < 1 Year             No         27496.0                 152.0       39   \n",
       "\n",
       "   Response  \n",
       "0         1  \n",
       "1         0  \n",
       "2         1  \n",
       "3         0  \n",
       "4         0  "
      ]
     },
     "execution_count": 4,
     "metadata": {},
     "output_type": "execute_result"
    }
   ],
   "source": [
    "train_data.head()"
   ]
  },
  {
   "cell_type": "code",
   "execution_count": 5,
   "id": "adf7e18b",
   "metadata": {},
   "outputs": [
    {
     "data": {
      "text/html": [
       "<div>\n",
       "<style scoped>\n",
       "    .dataframe tbody tr th:only-of-type {\n",
       "        vertical-align: middle;\n",
       "    }\n",
       "\n",
       "    .dataframe tbody tr th {\n",
       "        vertical-align: top;\n",
       "    }\n",
       "\n",
       "    .dataframe thead th {\n",
       "        text-align: right;\n",
       "    }\n",
       "</style>\n",
       "<table border=\"1\" class=\"dataframe\">\n",
       "  <thead>\n",
       "    <tr style=\"text-align: right;\">\n",
       "      <th></th>\n",
       "      <th>id</th>\n",
       "      <th>Gender</th>\n",
       "      <th>Age</th>\n",
       "      <th>Driving_License</th>\n",
       "      <th>Region_Code</th>\n",
       "      <th>Previously_Insured</th>\n",
       "      <th>Vehicle_Age</th>\n",
       "      <th>Vehicle_Damage</th>\n",
       "      <th>Annual_Premium</th>\n",
       "      <th>Policy_Sales_Channel</th>\n",
       "      <th>Vintage</th>\n",
       "    </tr>\n",
       "  </thead>\n",
       "  <tbody>\n",
       "    <tr>\n",
       "      <th>0</th>\n",
       "      <td>381110</td>\n",
       "      <td>Male</td>\n",
       "      <td>25</td>\n",
       "      <td>1</td>\n",
       "      <td>11.0</td>\n",
       "      <td>1</td>\n",
       "      <td>&lt; 1 Year</td>\n",
       "      <td>No</td>\n",
       "      <td>35786.0</td>\n",
       "      <td>152.0</td>\n",
       "      <td>53</td>\n",
       "    </tr>\n",
       "    <tr>\n",
       "      <th>1</th>\n",
       "      <td>381111</td>\n",
       "      <td>Male</td>\n",
       "      <td>40</td>\n",
       "      <td>1</td>\n",
       "      <td>28.0</td>\n",
       "      <td>0</td>\n",
       "      <td>1-2 Year</td>\n",
       "      <td>Yes</td>\n",
       "      <td>33762.0</td>\n",
       "      <td>7.0</td>\n",
       "      <td>111</td>\n",
       "    </tr>\n",
       "    <tr>\n",
       "      <th>2</th>\n",
       "      <td>381112</td>\n",
       "      <td>Male</td>\n",
       "      <td>47</td>\n",
       "      <td>1</td>\n",
       "      <td>28.0</td>\n",
       "      <td>0</td>\n",
       "      <td>1-2 Year</td>\n",
       "      <td>Yes</td>\n",
       "      <td>40050.0</td>\n",
       "      <td>124.0</td>\n",
       "      <td>199</td>\n",
       "    </tr>\n",
       "    <tr>\n",
       "      <th>3</th>\n",
       "      <td>381113</td>\n",
       "      <td>Male</td>\n",
       "      <td>24</td>\n",
       "      <td>1</td>\n",
       "      <td>27.0</td>\n",
       "      <td>1</td>\n",
       "      <td>&lt; 1 Year</td>\n",
       "      <td>Yes</td>\n",
       "      <td>37356.0</td>\n",
       "      <td>152.0</td>\n",
       "      <td>187</td>\n",
       "    </tr>\n",
       "    <tr>\n",
       "      <th>4</th>\n",
       "      <td>381114</td>\n",
       "      <td>Male</td>\n",
       "      <td>27</td>\n",
       "      <td>1</td>\n",
       "      <td>28.0</td>\n",
       "      <td>1</td>\n",
       "      <td>&lt; 1 Year</td>\n",
       "      <td>No</td>\n",
       "      <td>59097.0</td>\n",
       "      <td>152.0</td>\n",
       "      <td>297</td>\n",
       "    </tr>\n",
       "  </tbody>\n",
       "</table>\n",
       "</div>"
      ],
      "text/plain": [
       "       id Gender  Age  Driving_License  Region_Code  Previously_Insured  \\\n",
       "0  381110   Male   25                1         11.0                   1   \n",
       "1  381111   Male   40                1         28.0                   0   \n",
       "2  381112   Male   47                1         28.0                   0   \n",
       "3  381113   Male   24                1         27.0                   1   \n",
       "4  381114   Male   27                1         28.0                   1   \n",
       "\n",
       "  Vehicle_Age Vehicle_Damage  Annual_Premium  Policy_Sales_Channel  Vintage  \n",
       "0    < 1 Year             No         35786.0                 152.0       53  \n",
       "1    1-2 Year            Yes         33762.0                   7.0      111  \n",
       "2    1-2 Year            Yes         40050.0                 124.0      199  \n",
       "3    < 1 Year            Yes         37356.0                 152.0      187  \n",
       "4    < 1 Year             No         59097.0                 152.0      297  "
      ]
     },
     "execution_count": 5,
     "metadata": {},
     "output_type": "execute_result"
    }
   ],
   "source": [
    "test_data.head()"
   ]
  },
  {
   "cell_type": "code",
   "execution_count": 6,
   "id": "7fc7d735",
   "metadata": {},
   "outputs": [
    {
     "data": {
      "text/html": [
       "<div>\n",
       "<style scoped>\n",
       "    .dataframe tbody tr th:only-of-type {\n",
       "        vertical-align: middle;\n",
       "    }\n",
       "\n",
       "    .dataframe tbody tr th {\n",
       "        vertical-align: top;\n",
       "    }\n",
       "\n",
       "    .dataframe thead th {\n",
       "        text-align: right;\n",
       "    }\n",
       "</style>\n",
       "<table border=\"1\" class=\"dataframe\">\n",
       "  <thead>\n",
       "    <tr style=\"text-align: right;\">\n",
       "      <th></th>\n",
       "      <th>id</th>\n",
       "      <th>Response</th>\n",
       "    </tr>\n",
       "  </thead>\n",
       "  <tbody>\n",
       "    <tr>\n",
       "      <th>0</th>\n",
       "      <td>381110</td>\n",
       "      <td>0</td>\n",
       "    </tr>\n",
       "    <tr>\n",
       "      <th>1</th>\n",
       "      <td>381111</td>\n",
       "      <td>0</td>\n",
       "    </tr>\n",
       "    <tr>\n",
       "      <th>2</th>\n",
       "      <td>381112</td>\n",
       "      <td>0</td>\n",
       "    </tr>\n",
       "    <tr>\n",
       "      <th>3</th>\n",
       "      <td>381113</td>\n",
       "      <td>0</td>\n",
       "    </tr>\n",
       "    <tr>\n",
       "      <th>4</th>\n",
       "      <td>381114</td>\n",
       "      <td>0</td>\n",
       "    </tr>\n",
       "  </tbody>\n",
       "</table>\n",
       "</div>"
      ],
      "text/plain": [
       "       id  Response\n",
       "0  381110         0\n",
       "1  381111         0\n",
       "2  381112         0\n",
       "3  381113         0\n",
       "4  381114         0"
      ]
     },
     "execution_count": 6,
     "metadata": {},
     "output_type": "execute_result"
    }
   ],
   "source": [
    "submission.head()"
   ]
  },
  {
   "cell_type": "code",
   "execution_count": 7,
   "id": "29304802",
   "metadata": {},
   "outputs": [],
   "source": [
    "from collections import Counter\n",
    "from tqdm import tqdm\n",
    "import os\n",
    "from sklearn import metrics\n",
    "from sklearn.metrics import roc_curve, roc_auc_score"
   ]
  },
  {
   "cell_type": "code",
   "execution_count": 8,
   "id": "6cd53b35",
   "metadata": {},
   "outputs": [
    {
     "name": "stdout",
     "output_type": "stream",
     "text": [
      "(381109, 12)\n",
      "(127037, 11)\n"
     ]
    }
   ],
   "source": [
    "print(train_data.shape)\n",
    "print(test_data.shape)"
   ]
  },
  {
   "cell_type": "code",
   "execution_count": 9,
   "id": "ff9cb94a",
   "metadata": {},
   "outputs": [
    {
     "name": "stdout",
     "output_type": "stream",
     "text": [
      "<class 'pandas.core.frame.DataFrame'>\n",
      "RangeIndex: 381109 entries, 0 to 381108\n",
      "Data columns (total 12 columns):\n",
      " #   Column                Non-Null Count   Dtype  \n",
      "---  ------                --------------   -----  \n",
      " 0   id                    381109 non-null  int64  \n",
      " 1   Gender                381109 non-null  object \n",
      " 2   Age                   381109 non-null  int64  \n",
      " 3   Driving_License       381109 non-null  int64  \n",
      " 4   Region_Code           381109 non-null  float64\n",
      " 5   Previously_Insured    381109 non-null  int64  \n",
      " 6   Vehicle_Age           381109 non-null  object \n",
      " 7   Vehicle_Damage        381109 non-null  object \n",
      " 8   Annual_Premium        381109 non-null  float64\n",
      " 9   Policy_Sales_Channel  381109 non-null  float64\n",
      " 10  Vintage               381109 non-null  int64  \n",
      " 11  Response              381109 non-null  int64  \n",
      "dtypes: float64(3), int64(6), object(3)\n",
      "memory usage: 34.9+ MB\n"
     ]
    }
   ],
   "source": [
    "train_data.info()"
   ]
  },
  {
   "cell_type": "code",
   "execution_count": 10,
   "id": "8d30c971",
   "metadata": {},
   "outputs": [
    {
     "data": {
      "text/plain": [
       "id                      381109\n",
       "Gender                       2\n",
       "Age                         66\n",
       "Driving_License              2\n",
       "Region_Code                 53\n",
       "Previously_Insured           2\n",
       "Vehicle_Age                  3\n",
       "Vehicle_Damage               2\n",
       "Annual_Premium           48838\n",
       "Policy_Sales_Channel       155\n",
       "Vintage                    290\n",
       "Response                     2\n",
       "dtype: int64"
      ]
     },
     "execution_count": 10,
     "metadata": {},
     "output_type": "execute_result"
    }
   ],
   "source": [
    "train_data.nunique()"
   ]
  },
  {
   "cell_type": "code",
   "execution_count": 11,
   "id": "20afb939",
   "metadata": {},
   "outputs": [
    {
     "data": {
      "text/plain": [
       "id                      0\n",
       "Gender                  0\n",
       "Age                     0\n",
       "Driving_License         0\n",
       "Region_Code             0\n",
       "Previously_Insured      0\n",
       "Vehicle_Age             0\n",
       "Vehicle_Damage          0\n",
       "Annual_Premium          0\n",
       "Policy_Sales_Channel    0\n",
       "Vintage                 0\n",
       "Response                0\n",
       "dtype: int64"
      ]
     },
     "execution_count": 11,
     "metadata": {},
     "output_type": "execute_result"
    }
   ],
   "source": [
    "train_data.isnull().sum()"
   ]
  },
  {
   "cell_type": "code",
   "execution_count": 12,
   "id": "e1dd32a3",
   "metadata": {},
   "outputs": [
    {
     "data": {
      "text/plain": [
       "id                      0\n",
       "Gender                  0\n",
       "Age                     0\n",
       "Driving_License         0\n",
       "Region_Code             0\n",
       "Previously_Insured      0\n",
       "Vehicle_Age             0\n",
       "Vehicle_Damage          0\n",
       "Annual_Premium          0\n",
       "Policy_Sales_Channel    0\n",
       "Vintage                 0\n",
       "dtype: int64"
      ]
     },
     "execution_count": 12,
     "metadata": {},
     "output_type": "execute_result"
    }
   ],
   "source": [
    "test_data.isnull().sum()"
   ]
  },
  {
   "cell_type": "code",
   "execution_count": 13,
   "id": "98b3084a",
   "metadata": {},
   "outputs": [
    {
     "data": {
      "text/plain": [
       "0    334399\n",
       "1     46710\n",
       "Name: Response, dtype: int64"
      ]
     },
     "execution_count": 13,
     "metadata": {},
     "output_type": "execute_result"
    }
   ],
   "source": [
    "train_data['Response'].value_counts()"
   ]
  },
  {
   "cell_type": "markdown",
   "id": "b6f05025",
   "metadata": {},
   "source": [
    "## EDA"
   ]
  },
  {
   "cell_type": "code",
   "execution_count": 14,
   "id": "55fbae44",
   "metadata": {},
   "outputs": [
    {
     "data": {
      "text/plain": [
       "Male      206089\n",
       "Female    175020\n",
       "Name: Gender, dtype: int64"
      ]
     },
     "execution_count": 14,
     "metadata": {},
     "output_type": "execute_result"
    }
   ],
   "source": [
    "train_data['Gender'].value_counts()"
   ]
  },
  {
   "cell_type": "code",
   "execution_count": 15,
   "id": "72a151cf",
   "metadata": {},
   "outputs": [
    {
     "name": "stdout",
     "output_type": "stream",
     "text": [
      "Males interested in insurance % : 13.841107482689518\n",
      "Females interested in insurance % : 10.390241115301109\n"
     ]
    }
   ],
   "source": [
    "print(\"Males interested in insurance % :\", train_data[(train_data['Gender'] == 'Male') &  \n",
    "    (train_data['Response'] == 1)]['id'].count()*100/train_data[train_data['Gender'] == 'Male']['id'].count())\n",
    "\n",
    "print(\"Females interested in insurance % :\", train_data[(train_data['Gender'] == 'Female') &  \n",
    "    (train_data['Response'] == 1)]['id'].count()*100/train_data[train_data['Gender'] == 'Female']['id'].count())"
   ]
  },
  {
   "cell_type": "code",
   "execution_count": 16,
   "id": "4f16925b",
   "metadata": {},
   "outputs": [
    {
     "data": {
      "image/png": "[encoded data removed]",
      "text/plain": [
       "<Figure size 432x288 with 1 Axes>"
      ]
     },
     "metadata": {
      "needs_background": "light"
     },
     "output_type": "display_data"
    }
   ],
   "source": [
    "train_data.groupby(['Gender', 'Response']).size().unstack().plot(kind = 'bar', stacked = True)\n",
    "plt.show()"
   ]
  },
  {
   "cell_type": "code",
   "execution_count": 17,
   "id": "aaa505c7",
   "metadata": {},
   "outputs": [
    {
     "data": {
      "text/plain": [
       "Male      68236\n",
       "Female    58801\n",
       "Name: Gender, dtype: int64"
      ]
     },
     "execution_count": 17,
     "metadata": {},
     "output_type": "execute_result"
    }
   ],
   "source": [
    "test_data['Gender'].value_counts()"
   ]
  },
  {
   "cell_type": "markdown",
   "id": "c6a394dd",
   "metadata": {},
   "source": [
    "### Age"
   ]
  },
  {
   "cell_type": "code",
   "execution_count": 18,
   "id": "c77e094f",
   "metadata": {},
   "outputs": [
    {
     "data": {
      "image/png": "[encoded data removed]",
      "text/plain": [
       "<Figure size 415.75x360 with 1 Axes>"
      ]
     },
     "metadata": {
      "needs_background": "light"
     },
     "output_type": "display_data"
    }
   ],
   "source": [
    "# how does age influence response \n",
    "\n",
    "sns.FacetGrid(data = train_data, hue = 'Response', height = 5).map(sns.distplot, 'Age').add_legend()\n",
    "plt.grid()\n",
    "plt.show()"
   ]
  },
  {
   "cell_type": "markdown",
   "id": "a53aade8",
   "metadata": {},
   "source": [
    "People in age group > 30 are more likely to take vehicle insurance as compared to the people in the young age group <30 . So age is a valient feature."
   ]
  },
  {
   "cell_type": "markdown",
   "id": "f497cb42",
   "metadata": {},
   "source": [
    "### Driving License"
   ]
  },
  {
   "cell_type": "code",
   "execution_count": 19,
   "id": "4d0638ef",
   "metadata": {},
   "outputs": [
    {
     "data": {
      "text/plain": [
       "<AxesSubplot:xlabel='Driving_License'>"
      ]
     },
     "execution_count": 19,
     "metadata": {},
     "output_type": "execute_result"
    },
    {
     "data": {
      "image/png": "[encoded data removed]",
      "text/plain": [
       "<Figure size 432x288 with 1 Axes>"
      ]
     },
     "metadata": {
      "needs_background": "light"
     },
     "output_type": "display_data"
    }
   ],
   "source": [
    "train_data.groupby(['Driving_License', 'Response']).size().unstack().plot(kind = 'bar', stacked = True)"
   ]
  },
  {
   "cell_type": "markdown",
   "id": "beff66f7",
   "metadata": {},
   "source": [
    "Almost all of them having Driving License"
   ]
  },
  {
   "cell_type": "markdown",
   "id": "2977322f",
   "metadata": {},
   "source": [
    "### previously Insured"
   ]
  },
  {
   "cell_type": "code",
   "execution_count": 20,
   "id": "f96d7a20",
   "metadata": {},
   "outputs": [
    {
     "data": {
      "text/plain": [
       "<AxesSubplot:xlabel='Previously_Insured'>"
      ]
     },
     "execution_count": 20,
     "metadata": {},
     "output_type": "execute_result"
    },
    {
     "data": {
      "image/png": "[encoded data removed]",
      "text/plain": [
       "<Figure size 432x288 with 1 Axes>"
      ]
     },
     "metadata": {
      "needs_background": "light"
     },
     "output_type": "display_data"
    }
   ],
   "source": [
    "train_data.groupby(['Previously_Insured', 'Response']).size().unstack().plot(kind = 'bar')"
   ]
  },
  {
   "cell_type": "markdown",
   "id": "5e426b92",
   "metadata": {},
   "source": [
    "Among the customers who already have their vehicle insured, almost all of them Responded NO. Among the customers who so not have have their vehicle insured, nearly 30% would want to get insured. So this parameter is good for prediction."
   ]
  },
  {
   "cell_type": "markdown",
   "id": "2cb0c7e4",
   "metadata": {},
   "source": [
    "### Vehicle Age"
   ]
  },
  {
   "cell_type": "code",
   "execution_count": 21,
   "id": "132bb603",
   "metadata": {},
   "outputs": [
    {
     "data": {
      "image/png": "[encoded data removed]",
      "text/plain": [
       "<Figure size 432x288 with 1 Axes>"
      ]
     },
     "metadata": {
      "needs_background": "light"
     },
     "output_type": "display_data"
    }
   ],
   "source": [
    "train_data.groupby(['Vehicle_Age','Response']).size().unstack().plot(kind = 'bar', stacked = True)\n",
    "plt.show()"
   ]
  },
  {
   "cell_type": "markdown",
   "id": "bdf44eee",
   "metadata": {},
   "source": [
    "If the age is less than 1 year, Customers are most likely to respond NO."
   ]
  },
  {
   "cell_type": "markdown",
   "id": "56d5f2ba",
   "metadata": {},
   "source": [
    "### vehicle damage"
   ]
  },
  {
   "cell_type": "code",
   "execution_count": 22,
   "id": "01be193c",
   "metadata": {},
   "outputs": [
    {
     "data": {
      "image/png": "[encoded data removed]",
      "text/plain": [
       "<Figure size 432x288 with 1 Axes>"
      ]
     },
     "metadata": {
      "needs_background": "light"
     },
     "output_type": "display_data"
    }
   ],
   "source": [
    "train_data.groupby(['Vehicle_Damage', 'Response']).size().unstack().plot(kind = 'bar', stacked = True)\n",
    "plt.show()"
   ]
  },
  {
   "cell_type": "markdown",
   "id": "f76895bc",
   "metadata": {},
   "source": [
    "Customers whose vehicle is NOT damaged in past are almost certainly going to respond NO for vehicle insurance. So, like 'Previously_Insured', 'Vehicle_Damage' in past turns out to be an excellent feature!"
   ]
  },
  {
   "cell_type": "markdown",
   "id": "c373f506",
   "metadata": {},
   "source": [
    "### Annual Premium"
   ]
  },
  {
   "cell_type": "code",
   "execution_count": 23,
   "id": "6f89116e",
   "metadata": {},
   "outputs": [
    {
     "data": {
      "image/png": "[encoded data removed]",
      "text/plain": [
       "<Figure size 415.75x360 with 1 Axes>"
      ]
     },
     "metadata": {
      "needs_background": "light"
     },
     "output_type": "display_data"
    }
   ],
   "source": [
    "sns.FacetGrid(data = train_data, hue = 'Response', height = 5).map(sns.distplot, 'Annual_Premium').add_legend()\n",
    "plt.show()"
   ]
  },
  {
   "cell_type": "code",
   "execution_count": 24,
   "id": "5c9d1897",
   "metadata": {},
   "outputs": [
    {
     "data": {
      "image/png": "[encoded data removed]",
      "text/plain": [
       "<Figure size 415.75x360 with 1 Axes>"
      ]
     },
     "metadata": {
      "needs_background": "light"
     },
     "output_type": "display_data"
    }
   ],
   "source": [
    "# Consider only upto 99.9 percentile \n",
    "sns.FacetGrid(data = train_data[train_data['Annual_Premium'] < np.percentile(train_data['Annual_Premium'], 99.9)], \n",
    "              hue = 'Response', height = 5).map(sns.distplot, 'Annual_Premium').add_legend()\n",
    "plt.show()"
   ]
  },
  {
   "cell_type": "code",
   "execution_count": 25,
   "id": "ad153846",
   "metadata": {},
   "outputs": [
    {
     "data": {
      "image/png": "[encoded data removed]",
      "text/plain": [
       "<Figure size 415.75x360 with 1 Axes>"
      ]
     },
     "metadata": {
      "needs_background": "light"
     },
     "output_type": "display_data"
    }
   ],
   "source": [
    "# Beyond 99.9 percentile \n",
    "\n",
    "sns.FacetGrid(data = train_data[train_data['Annual_Premium'] >= np.percentile(train_data['Annual_Premium'], 99.9)], \n",
    "              hue = 'Response', height = 5).map(sns.distplot, 'Annual_Premium').add_legend()\n",
    "plt.show()"
   ]
  },
  {
   "cell_type": "markdown",
   "id": "cc3b59ca",
   "metadata": {},
   "source": [
    "There is no clear distinction here. So we cannot say anything conclusive from this univariate feature analysis. Due to presence of outlier values, we may need to scale this featue to minimize the effect of outlier."
   ]
  },
  {
   "cell_type": "markdown",
   "id": "17c780f2",
   "metadata": {},
   "source": [
    "### Policy Sales Channel"
   ]
  },
  {
   "cell_type": "code",
   "execution_count": 26,
   "id": "b5ebf787",
   "metadata": {},
   "outputs": [
    {
     "data": {
      "text/plain": [
       "152.0    134784\n",
       "26.0      79700\n",
       "124.0     73995\n",
       "160.0     21779\n",
       "156.0     10661\n",
       "          ...  \n",
       "149.0         1\n",
       "43.0          1\n",
       "144.0         1\n",
       "143.0         1\n",
       "41.0          1\n",
       "Name: Policy_Sales_Channel, Length: 155, dtype: int64"
      ]
     },
     "execution_count": 26,
     "metadata": {},
     "output_type": "execute_result"
    }
   ],
   "source": [
    "train_data['Policy_Sales_Channel'].value_counts()"
   ]
  },
  {
   "cell_type": "code",
   "execution_count": 27,
   "id": "f926e967",
   "metadata": {},
   "outputs": [
    {
     "data": {
      "text/plain": [
       "152.0    44739\n",
       "26.0     26894\n",
       "124.0    24304\n",
       "160.0     7311\n",
       "156.0     3652\n",
       "         ...  \n",
       "6.0          1\n",
       "69.0         1\n",
       "141.0        1\n",
       "33.0         1\n",
       "58.0         1\n",
       "Name: Policy_Sales_Channel, Length: 145, dtype: int64"
      ]
     },
     "execution_count": 27,
     "metadata": {},
     "output_type": "execute_result"
    }
   ],
   "source": [
    "test_data['Policy_Sales_Channel'].value_counts()"
   ]
  },
  {
   "cell_type": "markdown",
   "id": "622bb6aa",
   "metadata": {},
   "source": [
    "Too much variability! We will handle this feature by response encoding or One hot encoding"
   ]
  },
  {
   "cell_type": "markdown",
   "id": "bfb6fb2c",
   "metadata": {},
   "source": [
    "### Vintage"
   ]
  },
  {
   "cell_type": "code",
   "execution_count": 28,
   "id": "3f32e9f9",
   "metadata": {},
   "outputs": [
    {
     "data": {
      "image/png": "[encoded data removed]",
      "text/plain": [
       "<Figure size 343.75x288 with 1 Axes>"
      ]
     },
     "metadata": {
      "needs_background": "light"
     },
     "output_type": "display_data"
    }
   ],
   "source": [
    "sns.FacetGrid(data = train_data, hue = 'Response', height = 4).map(sns.distplot, 'Vintage').add_legend()\n",
    "plt.show()"
   ]
  },
  {
   "cell_type": "markdown",
   "id": "e8db34c2",
   "metadata": {},
   "source": [
    "There is a very high overlap. Clearly, this feature alone is very bad for perdiction."
   ]
  },
  {
   "cell_type": "markdown",
   "id": "cc815bbb",
   "metadata": {},
   "source": [
    "## Data PreProcessing"
   ]
  },
  {
   "cell_type": "code",
   "execution_count": 29,
   "id": "ac324660",
   "metadata": {},
   "outputs": [
    {
     "data": {
      "text/plain": [
       "Index(['id', 'Gender', 'Age', 'Driving_License', 'Region_Code',\n",
       "       'Previously_Insured', 'Vehicle_Age', 'Vehicle_Damage', 'Annual_Premium',\n",
       "       'Policy_Sales_Channel', 'Vintage', 'Response'],\n",
       "      dtype='object')"
      ]
     },
     "execution_count": 29,
     "metadata": {},
     "output_type": "execute_result"
    }
   ],
   "source": [
    "train_data.columns"
   ]
  },
  {
   "cell_type": "code",
   "execution_count": 30,
   "id": "b3b9567a",
   "metadata": {},
   "outputs": [
    {
     "data": {
      "text/html": [
       "<div>\n",
       "<style scoped>\n",
       "    .dataframe tbody tr th:only-of-type {\n",
       "        vertical-align: middle;\n",
       "    }\n",
       "\n",
       "    .dataframe tbody tr th {\n",
       "        vertical-align: top;\n",
       "    }\n",
       "\n",
       "    .dataframe thead th {\n",
       "        text-align: right;\n",
       "    }\n",
       "</style>\n",
       "<table border=\"1\" class=\"dataframe\">\n",
       "  <thead>\n",
       "    <tr style=\"text-align: right;\">\n",
       "      <th></th>\n",
       "      <th>id</th>\n",
       "      <th>Gender</th>\n",
       "      <th>Age</th>\n",
       "      <th>Driving_License</th>\n",
       "      <th>Region_Code</th>\n",
       "      <th>Previously_Insured</th>\n",
       "      <th>Vehicle_Age</th>\n",
       "      <th>Vehicle_Damage</th>\n",
       "      <th>Annual_Premium</th>\n",
       "      <th>Policy_Sales_Channel</th>\n",
       "      <th>Vintage</th>\n",
       "      <th>Response</th>\n",
       "    </tr>\n",
       "  </thead>\n",
       "  <tbody>\n",
       "    <tr>\n",
       "      <th>0</th>\n",
       "      <td>1</td>\n",
       "      <td>Male</td>\n",
       "      <td>44</td>\n",
       "      <td>1</td>\n",
       "      <td>28.0</td>\n",
       "      <td>0</td>\n",
       "      <td>&gt; 2 Years</td>\n",
       "      <td>Yes</td>\n",
       "      <td>40454.0</td>\n",
       "      <td>26.0</td>\n",
       "      <td>217</td>\n",
       "      <td>1</td>\n",
       "    </tr>\n",
       "    <tr>\n",
       "      <th>1</th>\n",
       "      <td>2</td>\n",
       "      <td>Male</td>\n",
       "      <td>76</td>\n",
       "      <td>1</td>\n",
       "      <td>3.0</td>\n",
       "      <td>0</td>\n",
       "      <td>1-2 Year</td>\n",
       "      <td>No</td>\n",
       "      <td>33536.0</td>\n",
       "      <td>26.0</td>\n",
       "      <td>183</td>\n",
       "      <td>0</td>\n",
       "    </tr>\n",
       "    <tr>\n",
       "      <th>2</th>\n",
       "      <td>3</td>\n",
       "      <td>Male</td>\n",
       "      <td>47</td>\n",
       "      <td>1</td>\n",
       "      <td>28.0</td>\n",
       "      <td>0</td>\n",
       "      <td>&gt; 2 Years</td>\n",
       "      <td>Yes</td>\n",
       "      <td>38294.0</td>\n",
       "      <td>26.0</td>\n",
       "      <td>27</td>\n",
       "      <td>1</td>\n",
       "    </tr>\n",
       "    <tr>\n",
       "      <th>3</th>\n",
       "      <td>4</td>\n",
       "      <td>Male</td>\n",
       "      <td>21</td>\n",
       "      <td>1</td>\n",
       "      <td>11.0</td>\n",
       "      <td>1</td>\n",
       "      <td>&lt; 1 Year</td>\n",
       "      <td>No</td>\n",
       "      <td>28619.0</td>\n",
       "      <td>152.0</td>\n",
       "      <td>203</td>\n",
       "      <td>0</td>\n",
       "    </tr>\n",
       "    <tr>\n",
       "      <th>4</th>\n",
       "      <td>5</td>\n",
       "      <td>Female</td>\n",
       "      <td>29</td>\n",
       "      <td>1</td>\n",
       "      <td>41.0</td>\n",
       "      <td>1</td>\n",
       "      <td>&lt; 1 Year</td>\n",
       "      <td>No</td>\n",
       "      <td>27496.0</td>\n",
       "      <td>152.0</td>\n",
       "      <td>39</td>\n",
       "      <td>0</td>\n",
       "    </tr>\n",
       "  </tbody>\n",
       "</table>\n",
       "</div>"
      ],
      "text/plain": [
       "   id  Gender  Age  Driving_License  Region_Code  Previously_Insured  \\\n",
       "0   1    Male   44                1         28.0                   0   \n",
       "1   2    Male   76                1          3.0                   0   \n",
       "2   3    Male   47                1         28.0                   0   \n",
       "3   4    Male   21                1         11.0                   1   \n",
       "4   5  Female   29                1         41.0                   1   \n",
       "\n",
       "  Vehicle_Age Vehicle_Damage  Annual_Premium  Policy_Sales_Channel  Vintage  \\\n",
       "0   > 2 Years            Yes         40454.0                  26.0      217   \n",
       "1    1-2 Year             No         33536.0                  26.0      183   \n",
       "2   > 2 Years            Yes         38294.0                  26.0       27   \n",
       "3    < 1 Year             No         28619.0                 152.0      203   \n",
       "4    < 1 Year             No         27496.0                 152.0       39   \n",
       "\n",
       "   Response  \n",
       "0         1  \n",
       "1         0  \n",
       "2         1  \n",
       "3         0  \n",
       "4         0  "
      ]
     },
     "execution_count": 30,
     "metadata": {},
     "output_type": "execute_result"
    }
   ],
   "source": [
    "train_data.head()"
   ]
  },
  {
   "cell_type": "markdown",
   "id": "7f0059f5",
   "metadata": {},
   "source": [
    "### 1. Gender"
   ]
  },
  {
   "cell_type": "code",
   "execution_count": 31,
   "id": "922c540b",
   "metadata": {},
   "outputs": [
    {
     "name": "stdout",
     "output_type": "stream",
     "text": [
      "(381109, 1)\n",
      "(127037, 1)\n"
     ]
    }
   ],
   "source": [
    "# train data\n",
    "X_train_gender = train_data['Gender'].apply(lambda x: 1 if x == 'Male' else 0)\n",
    "X_train_gender = X_train_gender.values.reshape(-1, 1)\n",
    "\n",
    "# test data\n",
    "X_test_gender = test_data['Gender'].apply(lambda x: 1 if x == 'Male' else 0)\n",
    "X_test_gender = X_test_gender.values.reshape(-1, 1)\n",
    "\n",
    "print(X_train_gender.shape)\n",
    "print(X_test_gender.shape)"
   ]
  },
  {
   "cell_type": "markdown",
   "id": "2c018791",
   "metadata": {},
   "source": [
    "### 2. Age"
   ]
  },
  {
   "cell_type": "code",
   "execution_count": 32,
   "id": "8562ea5c",
   "metadata": {},
   "outputs": [
    {
     "name": "stdout",
     "output_type": "stream",
     "text": [
      "(381109, 1)\n",
      "(127037, 1)\n"
     ]
    }
   ],
   "source": [
    "from sklearn.preprocessing import MinMaxScaler\n",
    "\n",
    "scaler = MinMaxScaler()\n",
    "scaler.fit(train_data['Age'].values.reshape(-1, 1))\n",
    "X_train_age = scaler.transform(train_data['Age'].values.reshape(-1, 1))\n",
    "X_test_age = scaler.transform(test_data['Age'].values.reshape(-1, 1))\n",
    "\n",
    "print(X_train_age.shape)\n",
    "print(X_test_age.shape)"
   ]
  },
  {
   "cell_type": "code",
   "execution_count": 33,
   "id": "4e9a1caf",
   "metadata": {},
   "outputs": [
    {
     "name": "stdout",
     "output_type": "stream",
     "text": [
      "(381109, 1)\n",
      "(127037, 1)\n"
     ]
    }
   ],
   "source": [
    "# no scaling\n",
    "\n",
    "X_train_age_n = train_data['Age'].values.reshape(-1, 1)\n",
    "X_test_age_n = test_data['Age'].values.reshape(-1, 1)\n",
    "\n",
    "print(X_train_age_n.shape)\n",
    "print(X_test_age_n.shape)"
   ]
  },
  {
   "cell_type": "markdown",
   "id": "9eab4dc1",
   "metadata": {},
   "source": [
    "Feature engineering: new categorical feature for Age"
   ]
  },
  {
   "cell_type": "code",
   "execution_count": 34,
   "id": "ef5eb225",
   "metadata": {},
   "outputs": [
    {
     "name": "stdout",
     "output_type": "stream",
     "text": [
      "(381109, 1)\n",
      "(127037, 1)\n"
     ]
    }
   ],
   "source": [
    "# train data\n",
    "X_train_age_cat = train_data['Age'].apply(lambda x: 1 if x >= 30 else 0)\n",
    "X_train_age_cat = X_train_age_cat.values.reshape(-1, 1)\n",
    "\n",
    "# test data\n",
    "X_test_age_cat = test_data['Age'].apply(lambda x: 1 if x >= 30 else 0)\n",
    "X_test_age_cat = X_test_age_cat.values.reshape(-1, 1)\n",
    "\n",
    "print(X_train_age_cat.shape)\n",
    "print(X_test_age_cat.shape)"
   ]
  },
  {
   "cell_type": "markdown",
   "id": "0b6522bb",
   "metadata": {},
   "source": [
    "### Driving License"
   ]
  },
  {
   "cell_type": "code",
   "execution_count": 35,
   "id": "23c3bcb1",
   "metadata": {},
   "outputs": [
    {
     "name": "stdout",
     "output_type": "stream",
     "text": [
      "(381109, 1)\n",
      "(127037, 1)\n"
     ]
    }
   ],
   "source": [
    "X_train_license = train_data['Driving_License'].values.reshape(-1, 1)\n",
    "X_test_license = test_data['Driving_License'].values.reshape(-1, 1)\n",
    "\n",
    "print(X_train_license.shape)\n",
    "print(X_test_license.shape)"
   ]
  },
  {
   "cell_type": "markdown",
   "id": "7da73d9c",
   "metadata": {},
   "source": [
    "### Region Code"
   ]
  },
  {
   "cell_type": "code",
   "execution_count": 36,
   "id": "9cecca3e",
   "metadata": {},
   "outputs": [
    {
     "name": "stdout",
     "output_type": "stream",
     "text": [
      "(381109, 53)\n",
      "(127037, 53)\n"
     ]
    }
   ],
   "source": [
    "# one-hot encoding 'Region code'\n",
    "from sklearn.preprocessing import OneHotEncoder\n",
    "encoder = OneHotEncoder()\n",
    "encoder.fit(train_data['Region_Code'].values.reshape(-1, 1))\n",
    "\n",
    "X_train_region_code = encoder.transform(train_data['Region_Code'].values.reshape(-1, 1))\n",
    "X_test_region_code = encoder.transform(test_data['Region_Code'].values.reshape(-1, 1))\n",
    "\n",
    "print(X_train_region_code.shape)\n",
    "print(X_test_region_code.shape)"
   ]
  },
  {
   "cell_type": "markdown",
   "id": "d903da1e",
   "metadata": {},
   "source": [
    "Note: In response coding, when we calculate the probability of a feature value belonging to a particular class."
   ]
  },
  {
   "cell_type": "code",
   "execution_count": 37,
   "id": "62bbfce0",
   "metadata": {},
   "outputs": [],
   "source": [
    "# response encoding\n",
    "\n",
    "def get_feat_dict(feature):\n",
    "    value_count = train_data[feature].value_counts() # value counts of each feature\n",
    "    my_dict = dict()  # initialize a dictionary\n",
    "    for i, denominator in value_count.items():\n",
    "        class_count = train_data[(train_data['Response'] == 1) & (train_data[feature] == i)]\n",
    "        my_dict[i] = round((class_count.shape[0]/denominator), 6)\n",
    "    return my_dict"
   ]
  },
  {
   "cell_type": "code",
   "execution_count": 38,
   "id": "4120ea44",
   "metadata": {},
   "outputs": [],
   "source": [
    "region_code_dict = get_feat_dict('Region_Code')"
   ]
  },
  {
   "cell_type": "code",
   "execution_count": 39,
   "id": "ffb448ce",
   "metadata": {},
   "outputs": [
    {
     "data": {
      "text/plain": [
       "0         0.187163\n",
       "1         0.127662\n",
       "2         0.187163\n",
       "3         0.112760\n",
       "4         0.121776\n",
       "            ...   \n",
       "381104    0.072284\n",
       "381105    0.079258\n",
       "381106    0.073825\n",
       "381107    0.090209\n",
       "381108    0.123362\n",
       "Name: Region_Code, Length: 381109, dtype: float64"
      ]
     },
     "execution_count": 39,
     "metadata": {},
     "output_type": "execute_result"
    }
   ],
   "source": [
    "pkn = train_data['Region_Code'].copy()\n",
    "pkn = pkn.apply(lambda x: region_code_dict[x]) \n",
    "pkn"
   ]
  },
  {
   "cell_type": "code",
   "execution_count": 40,
   "id": "907bc4b3",
   "metadata": {},
   "outputs": [
    {
     "name": "stdout",
     "output_type": "stream",
     "text": [
      "(381109, 1)\n",
      "(127037, 1)\n"
     ]
    }
   ],
   "source": [
    "# train data\n",
    "X_train_region_code_resp = train_data['Region_Code'].apply(lambda x: region_code_dict[x])\n",
    "X_train_region_code_resp = X_train_region_code_resp.values.reshape(-1, 1)\n",
    "\n",
    "# test data\n",
    "X_test_region_code_resp = test_data['Region_Code'].apply(lambda x: region_code_dict[x] if x in region_code_dict.keys() \n",
    "                                                                                       else np.median(list(region_code_dict.values())))\n",
    "X_test_region_code_resp = X_test_region_code_resp.values.reshape(-1, 1)\n",
    "\n",
    "print(X_train_region_code_resp.shape)\n",
    "print(X_test_region_code_resp.shape)"
   ]
  },
  {
   "cell_type": "markdown",
   "id": "93701d75",
   "metadata": {},
   "source": [
    "### Previosly insured"
   ]
  },
  {
   "cell_type": "code",
   "execution_count": 41,
   "id": "113400b0",
   "metadata": {},
   "outputs": [
    {
     "name": "stdout",
     "output_type": "stream",
     "text": [
      "(381109, 1)\n",
      "(127037, 1)\n"
     ]
    }
   ],
   "source": [
    "X_train_prev_ins = train_data['Previously_Insured'].values.reshape(-1, 1)\n",
    "X_test_prev_ins = test_data['Previously_Insured'].values.reshape(-1, 1)\n",
    "\n",
    "print(X_train_prev_ins.shape)\n",
    "print(X_test_prev_ins.shape)"
   ]
  },
  {
   "cell_type": "markdown",
   "id": "f167abcf",
   "metadata": {},
   "source": [
    "### vehicle Age"
   ]
  },
  {
   "cell_type": "code",
   "execution_count": 42,
   "id": "dcf02fe5",
   "metadata": {},
   "outputs": [
    {
     "name": "stdout",
     "output_type": "stream",
     "text": [
      "(381109, 3)\n",
      "(127037, 3)\n"
     ]
    }
   ],
   "source": [
    "# one-hot encoding 'Vehicle Age'\n",
    "from sklearn.preprocessing import OneHotEncoder\n",
    "encoder = OneHotEncoder()\n",
    "encoder.fit(train_data['Vehicle_Age'].values.reshape(-1, 1))\n",
    "\n",
    "X_train_vehicle_age = encoder.transform(train_data['Vehicle_Age'].values.reshape(-1, 1))\n",
    "X_test_vehicle_age = encoder.transform(test_data['Vehicle_Age'].values.reshape(-1, 1))\n",
    "\n",
    "print(X_train_vehicle_age.shape)\n",
    "print(X_test_vehicle_age.shape)"
   ]
  },
  {
   "cell_type": "code",
   "execution_count": 43,
   "id": "93588a44",
   "metadata": {},
   "outputs": [],
   "source": [
    "# Lable encoding\n",
    "X_train_vehicle_age_n = train_data['Vehicle_Age'].replace({'< 1 Year':0, '1-2 Year':1, '> 2 Years':2})\n",
    "X_train_vehicle_age_n = X_train_vehicle_age_n.values.reshape(-1, 1)\n",
    "\n",
    "X_test_vehicle_age_n = test_data['Vehicle_Age'].replace({'< 1 Year':0, '1-2 Year':1, '> 2 Years':2})\n",
    "X_test_vehicle_age_n = X_test_vehicle_age_n.values.reshape(-1, 1)"
   ]
  },
  {
   "cell_type": "code",
   "execution_count": 44,
   "id": "ccc9a444",
   "metadata": {},
   "outputs": [
    {
     "data": {
      "text/plain": [
       "{'1-2 Year': 0.173755, '< 1 Year': 0.043705, '> 2 Years': 0.293746}"
      ]
     },
     "execution_count": 44,
     "metadata": {},
     "output_type": "execute_result"
    }
   ],
   "source": [
    "# Response encoding\n",
    "vehicle_age_dict = get_feat_dict('Vehicle_Age')\n",
    "vehicle_age_dict"
   ]
  },
  {
   "cell_type": "code",
   "execution_count": 45,
   "id": "d62c5dcf",
   "metadata": {},
   "outputs": [
    {
     "name": "stdout",
     "output_type": "stream",
     "text": [
      "(381109, 1)\n",
      "(127037, 1)\n"
     ]
    }
   ],
   "source": [
    "X_train_vehicle_age_resp = train_data['Vehicle_Age'].apply(lambda x: vehicle_age_dict[x])\n",
    "X_train_vehicle_age_resp = X_train_vehicle_age_resp.values.reshape(-1, 1)\n",
    "\n",
    "X_test_vehicle_age_resp = test_data['Vehicle_Age'].apply(lambda x: vehicle_age_dict[x])\n",
    "X_test_vehicle_age_resp = X_test_vehicle_age_resp.values.reshape(-1, 1)\n",
    "\n",
    "print(X_train_vehicle_age_resp.shape)\n",
    "print(X_test_vehicle_age_resp.shape)"
   ]
  },
  {
   "cell_type": "markdown",
   "id": "8e1507ba",
   "metadata": {},
   "source": [
    "### vehicle damage"
   ]
  },
  {
   "cell_type": "code",
   "execution_count": 46,
   "id": "1af0491e",
   "metadata": {},
   "outputs": [
    {
     "name": "stdout",
     "output_type": "stream",
     "text": [
      "(381109, 1)\n",
      "(127037, 1)\n"
     ]
    }
   ],
   "source": [
    "# train data\n",
    "X_train_damage = train_data['Vehicle_Damage'].apply(lambda x: 1 if x == 'Yes' else 0)\n",
    "X_train_damage = X_train_damage.values.reshape(-1, 1)\n",
    "\n",
    "# test data\n",
    "X_test_damage = test_data['Vehicle_Damage'].apply(lambda x: 1 if x == 'Yes' else 0)\n",
    "X_test_damage = X_test_damage.values.reshape(-1, 1)\n",
    "\n",
    "print(X_train_damage.shape)\n",
    "print(X_test_damage.shape)"
   ]
  },
  {
   "cell_type": "markdown",
   "id": "c3ac5a17",
   "metadata": {},
   "source": [
    "### Annual Premium"
   ]
  },
  {
   "cell_type": "code",
   "execution_count": 47,
   "id": "4c36c6b9",
   "metadata": {},
   "outputs": [
    {
     "name": "stdout",
     "output_type": "stream",
     "text": [
      "(381109, 1)\n",
      "(127037, 1)\n"
     ]
    }
   ],
   "source": [
    "from sklearn.preprocessing import MinMaxScaler\n",
    "\n",
    "scaler = MinMaxScaler()\n",
    "scaler.fit(train_data['Annual_Premium'].values.reshape(-1, 1))\n",
    "X_train_premium = scaler.transform(train_data['Annual_Premium'].values.reshape(-1, 1))\n",
    "X_test_premium = scaler.transform(test_data['Annual_Premium'].values.reshape(-1, 1))\n",
    "\n",
    "print(X_train_premium.shape)\n",
    "print(X_test_premium.shape)"
   ]
  },
  {
   "cell_type": "code",
   "execution_count": 48,
   "id": "51a43885",
   "metadata": {},
   "outputs": [
    {
     "name": "stdout",
     "output_type": "stream",
     "text": [
      "(381109, 1)\n",
      "(127037, 1)\n"
     ]
    }
   ],
   "source": [
    "# no scale\n",
    "\n",
    "X_train_premium_n = train_data['Annual_Premium'].values.reshape(-1, 1)\n",
    "X_test_premium_n =  test_data['Annual_Premium'].values.reshape(-1, 1)\n",
    "\n",
    "print(X_train_premium_n.shape)\n",
    "print(X_test_premium_n.shape)"
   ]
  },
  {
   "cell_type": "markdown",
   "id": "965f7115",
   "metadata": {},
   "source": [
    "### Policy Sales Channel"
   ]
  },
  {
   "cell_type": "code",
   "execution_count": 49,
   "id": "1107bfa3",
   "metadata": {},
   "outputs": [
    {
     "name": "stdout",
     "output_type": "stream",
     "text": [
      "(381109, 155)\n",
      "(127037, 155)\n"
     ]
    }
   ],
   "source": [
    "# one-hot encoding 'Policy_Channel'\n",
    "from sklearn.preprocessing import OneHotEncoder\n",
    "encoder = OneHotEncoder(handle_unknown = 'ignore')\n",
    "encoder.fit(train_data['Policy_Sales_Channel'].values.reshape(-1, 1))\n",
    "\n",
    "X_train_sales_chnl = encoder.transform(train_data['Policy_Sales_Channel'].values.reshape(-1, 1))\n",
    "X_test_sales_chnl = encoder.transform(test_data['Policy_Sales_Channel'].values.reshape(-1, 1))\n",
    "\n",
    "print(X_train_sales_chnl.shape)\n",
    "print(X_test_sales_chnl.shape)"
   ]
  },
  {
   "cell_type": "code",
   "execution_count": 50,
   "id": "01af9fc2",
   "metadata": {},
   "outputs": [
    {
     "data": {
      "text/plain": [
       "{152.0: 0.028624,\n",
       " 26.0: 0.199385,\n",
       " 124.0: 0.189148,\n",
       " 160.0: 0.02181,\n",
       " 156.0: 0.215458,\n",
       " 122.0: 0.173212,\n",
       " 157.0: 0.268402,\n",
       " 154.0: 0.245954,\n",
       " 151.0: 0.031403,\n",
       " 163.0: 0.304183,\n",
       " 13.0: 0.147453,\n",
       " 25.0: 0.199675,\n",
       " 7.0: 0.113892,\n",
       " 8.0: 0.082508,\n",
       " 30.0: 0.110638,\n",
       " 55.0: 0.149525,\n",
       " 155.0: 0.320097,\n",
       " 11.0: 0.089776,\n",
       " 1.0: 0.032588,\n",
       " 52.0: 0.109005,\n",
       " 125.0: 0.123782,\n",
       " 15.0: 0.087838,\n",
       " 29.0: 0.125741,\n",
       " 12.0: 0.168582,\n",
       " 120.0: 0.084525,\n",
       " 24.0: 0.132,\n",
       " 31.0: 0.253566,\n",
       " 14.0: 0.101286,\n",
       " 153.0: 0.059308,\n",
       " 61.0: 0.096718,\n",
       " 3.0: 0.304015,\n",
       " 16.0: 0.086042,\n",
       " 60.0: 0.102515,\n",
       " 4.0: 0.200393,\n",
       " 158.0: 0.27439,\n",
       " 23.0: 0.137441,\n",
       " 22.0: 0.054217,\n",
       " 150.0: 0.24359,\n",
       " 10.0: 0.189394,\n",
       " 19.0: 0.085586,\n",
       " 136.0: 0.216216,\n",
       " 147.0: 0.184783,\n",
       " 109.0: 0.12,\n",
       " 145.0: 0.132184,\n",
       " 9.0: 0.100592,\n",
       " 18.0: 0.035928,\n",
       " 91.0: 0.183544,\n",
       " 116.0: 0.116883,\n",
       " 37.0: 0.098684,\n",
       " 21.0: 0.081081,\n",
       " 139.0: 0.090909,\n",
       " 128.0: 0.094891,\n",
       " 42.0: 0.19697,\n",
       " 59.0: 0.19685,\n",
       " 138.0: 0.096774,\n",
       " 131.0: 0.115702,\n",
       " 127.0: 0.072727,\n",
       " 140.0: 0.065421,\n",
       " 113.0: 0.067308,\n",
       " 119.0: 0.048544,\n",
       " 44.0: 0.19802,\n",
       " 135.0: 0.089109,\n",
       " 54.0: 0.16,\n",
       " 64.0: 0.05618,\n",
       " 133.0: 0.047059,\n",
       " 148.0: 0.103896,\n",
       " 35.0: 0.133333,\n",
       " 103.0: 0.125,\n",
       " 111.0: 0.132353,\n",
       " 56.0: 0.184615,\n",
       " 121.0: 0.296875,\n",
       " 47.0: 0.126984,\n",
       " 132.0: 0.064516,\n",
       " 65.0: 0.067797,\n",
       " 107.0: 0.037037,\n",
       " 106.0: 0.230769,\n",
       " 36.0: 0.326923,\n",
       " 159.0: 0.019608,\n",
       " 86.0: 0.125,\n",
       " 45.0: 0.148936,\n",
       " 94.0: 0.195652,\n",
       " 129.0: 0.068182,\n",
       " 108.0: 0.026316,\n",
       " 88.0: 0.058824,\n",
       " 53.0: 0.21875,\n",
       " 93.0: 0.107143,\n",
       " 20.0: 0.111111,\n",
       " 90.0: 0.269231,\n",
       " 92.0: 0.125,\n",
       " 114.0: 0.130435,\n",
       " 78.0: 0.130435,\n",
       " 130.0: 0.090909,\n",
       " 98.0: 0.047619,\n",
       " 32.0: 0.095238,\n",
       " 48.0: 0.05,\n",
       " 63.0: 0.052632,\n",
       " 66.0: 0.055556,\n",
       " 118.0: 0.0,\n",
       " 46.0: 0.0,\n",
       " 146.0: 0.0,\n",
       " 96.0: 0.0,\n",
       " 17.0: 0.1875,\n",
       " 40.0: 0.133333,\n",
       " 81.0: 0.285714,\n",
       " 80.0: 0.285714,\n",
       " 49.0: 0.142857,\n",
       " 89.0: 0.142857,\n",
       " 73.0: 0.076923,\n",
       " 97.0: 0.076923,\n",
       " 51.0: 0.083333,\n",
       " 110.0: 0.090909,\n",
       " 134.0: 0.0,\n",
       " 38.0: 0.0,\n",
       " 39.0: 0.1,\n",
       " 58.0: 0.111111,\n",
       " 95.0: 0.0,\n",
       " 137.0: 0.0,\n",
       " 100.0: 0.25,\n",
       " 117.0: 0.0,\n",
       " 87.0: 0.285714,\n",
       " 101.0: 0.285714,\n",
       " 99.0: 0.0,\n",
       " 62.0: 0.166667,\n",
       " 79.0: 0.0,\n",
       " 69.0: 0.166667,\n",
       " 71.0: 0.0,\n",
       " 57.0: 0.2,\n",
       " 104.0: 0.0,\n",
       " 126.0: 0.0,\n",
       " 70.0: 0.0,\n",
       " 67.0: 0.0,\n",
       " 2.0: 0.25,\n",
       " 115.0: 0.0,\n",
       " 82.0: 0.0,\n",
       " 83.0: 0.0,\n",
       " 68.0: 0.25,\n",
       " 76.0: 0.0,\n",
       " 27.0: 0.333333,\n",
       " 6.0: 0.0,\n",
       " 102.0: 0.0,\n",
       " 34.0: 0.0,\n",
       " 28.0: 0.333333,\n",
       " 33.0: 0.0,\n",
       " 105.0: 0.0,\n",
       " 112.0: 0.0,\n",
       " 74.0: 0.0,\n",
       " 75.0: 0.0,\n",
       " 50.0: 0.0,\n",
       " 84.0: 0.0,\n",
       " 123.0: 1.0,\n",
       " 149.0: 0.0,\n",
       " 43.0: 1.0,\n",
       " 144.0: 0.0,\n",
       " 143.0: 0.0,\n",
       " 41.0: 0.0}"
      ]
     },
     "execution_count": 50,
     "metadata": {},
     "output_type": "execute_result"
    }
   ],
   "source": [
    "# Response encoding\n",
    "sales_chnl_dict = get_feat_dict('Policy_Sales_Channel')\n",
    "sales_chnl_dict"
   ]
  },
  {
   "cell_type": "code",
   "execution_count": 51,
   "id": "54e57360",
   "metadata": {},
   "outputs": [
    {
     "data": {
      "text/plain": [
       "0         0.199385\n",
       "1         0.199385\n",
       "2         0.199385\n",
       "3         0.028624\n",
       "4         0.028624\n",
       "            ...   \n",
       "381104    0.199385\n",
       "381105    0.028624\n",
       "381106    0.021810\n",
       "381107    0.189148\n",
       "381108    0.199385\n",
       "Name: Policy_Sales_Channel, Length: 381109, dtype: float64"
      ]
     },
     "execution_count": 51,
     "metadata": {},
     "output_type": "execute_result"
    }
   ],
   "source": [
    "# test \n",
    "pkn = train_data['Policy_Sales_Channel'].copy()\n",
    "pkn = pkn.apply(lambda x: sales_chnl_dict[x]) \n",
    "pkn"
   ]
  },
  {
   "cell_type": "code",
   "execution_count": 52,
   "id": "a778d380",
   "metadata": {},
   "outputs": [
    {
     "name": "stdout",
     "output_type": "stream",
     "text": [
      "(381109, 1)\n",
      "(127037, 1)\n"
     ]
    }
   ],
   "source": [
    "X_train_sales_chnl_resp = train_data['Policy_Sales_Channel'].apply(lambda x: sales_chnl_dict[x])\n",
    "X_train_sales_chnl_resp = X_train_sales_chnl_resp.values.reshape(-1, 1)\n",
    "\n",
    "X_test_sales_chnl_resp = test_data['Policy_Sales_Channel'].apply(lambda x: sales_chnl_dict[x] if x in sales_chnl_dict.keys() \n",
    "                                                                                              else np.median(list(sales_chnl_dict.values())))\n",
    "X_test_sales_chnl_resp = X_test_sales_chnl_resp.values.reshape(-1, 1)\n",
    "\n",
    "print(X_train_sales_chnl_resp.shape)\n",
    "print(X_test_sales_chnl_resp.shape)"
   ]
  },
  {
   "cell_type": "markdown",
   "id": "bbd88252",
   "metadata": {},
   "source": [
    "### Vintage"
   ]
  },
  {
   "cell_type": "code",
   "execution_count": 53,
   "id": "d41c1a3f",
   "metadata": {},
   "outputs": [
    {
     "name": "stdout",
     "output_type": "stream",
     "text": [
      "(381109, 1)\n",
      "(127037, 1)\n"
     ]
    }
   ],
   "source": [
    "scaler = MinMaxScaler()\n",
    "scaler.fit(train_data['Vintage'].values.reshape(-1, 1))\n",
    "X_train_vintage = scaler.transform(train_data['Vintage'].values.reshape(-1, 1))\n",
    "X_test_vintage = scaler.transform(test_data['Vintage'].values.reshape(-1, 1))\n",
    "\n",
    "print(X_train_vintage.shape)\n",
    "print(X_test_vintage.shape)"
   ]
  },
  {
   "cell_type": "code",
   "execution_count": 54,
   "id": "10ce6090",
   "metadata": {},
   "outputs": [
    {
     "name": "stdout",
     "output_type": "stream",
     "text": [
      "(381109, 1)\n",
      "(127037, 1)\n"
     ]
    }
   ],
   "source": [
    "X_train_vintage_n = train_data['Vintage'].values.reshape(-1, 1)\n",
    "X_test_vintage_n =  test_data['Vintage'].values.reshape(-1, 1)\n",
    "\n",
    "print(X_train_vintage_n.shape)\n",
    "print(X_test_vintage_n.shape)"
   ]
  },
  {
   "cell_type": "markdown",
   "id": "2fc3671b",
   "metadata": {},
   "source": [
    "## Stacking all features"
   ]
  },
  {
   "cell_type": "code",
   "execution_count": 55,
   "id": "f2ded4a5",
   "metadata": {},
   "outputs": [
    {
     "name": "stdout",
     "output_type": "stream",
     "text": [
      "train data shape: ((381109, 218), (381109,))\n",
      "test data shape: (127037, 218)\n"
     ]
    }
   ],
   "source": [
    "# Set 1: Label encoded + One hot encoded categorical features + scaled numerical features\n",
    "y_train = train_data['Response'].values\n",
    "from scipy.sparse import hstack\n",
    "\n",
    "X_train_ohe = hstack((X_train_gender, X_train_age, X_train_license, X_train_region_code, X_train_prev_ins, \n",
    "                       X_train_vehicle_age, X_train_damage, X_train_premium, X_train_sales_chnl, X_train_vintage))\n",
    "\n",
    "X_test_ohe = hstack((X_test_gender, X_test_age, X_test_license, X_test_region_code, X_test_prev_ins, \n",
    "                      X_test_vehicle_age, X_test_damage, X_test_premium, X_test_sales_chnl, X_test_vintage)) \n",
    "\n",
    "print(\"train data shape:\", (X_train_ohe.shape, y_train.shape))\n",
    "print(\"test data shape:\", X_test_ohe.shape)"
   ]
  },
  {
   "cell_type": "code",
   "execution_count": 56,
   "id": "e0eb9584",
   "metadata": {},
   "outputs": [
    {
     "name": "stdout",
     "output_type": "stream",
     "text": [
      "train data shape: ((381109, 11), (381109,))\n",
      "test data shape: (127037, 11)\n"
     ]
    }
   ],
   "source": [
    "# Set 2: Label encoded + Response encoded categorical features + numerical features\n",
    "X_train_r = np.hstack((X_train_gender, X_train_age_n, X_train_age_cat, X_train_license, X_train_region_code_resp, X_train_prev_ins, \n",
    "                       X_train_vehicle_age_resp, X_train_damage, X_train_premium_n, X_train_sales_chnl_resp, X_train_vintage_n))\n",
    "\n",
    "X_test_r = np.hstack((X_test_gender, X_test_age_n, X_test_age_cat, X_test_license, X_test_region_code_resp, X_test_prev_ins, \n",
    "                      X_test_vehicle_age_resp, X_test_damage, X_test_premium_n, X_test_sales_chnl_resp, X_test_vintage_n)) \n",
    "\n",
    "print(\"train data shape:\", (X_train_r.shape, y_train.shape))\n",
    "print(\"test data shape:\", X_test_r.shape)"
   ]
  },
  {
   "cell_type": "markdown",
   "id": "bd5d5923",
   "metadata": {},
   "source": [
    "# Building Machine learning model"
   ]
  },
  {
   "cell_type": "markdown",
   "id": "88b84056",
   "metadata": {},
   "source": [
    "### With Set 1 features"
   ]
  },
  {
   "cell_type": "markdown",
   "id": "8631f3f7",
   "metadata": {},
   "source": [
    "### Logistic Regression using SGD"
   ]
  },
  {
   "cell_type": "code",
   "execution_count": 57,
   "id": "df291d95",
   "metadata": {},
   "outputs": [
    {
     "data": {
      "text/plain": [
       "GridSearchCV(cv=5, estimator=SGDClassifier(class_weight='balanced', loss='log'),\n",
       "             n_jobs=-1,\n",
       "             param_grid={'alpha': [0.001, 0.01, 0.1, 1, 10, 100, 1000]},\n",
       "             return_train_score=True, scoring='roc_auc')"
      ]
     },
     "execution_count": 57,
     "metadata": {},
     "output_type": "execute_result"
    }
   ],
   "source": [
    "from sklearn.linear_model import SGDClassifier\n",
    "from sklearn.model_selection import GridSearchCV\n",
    "from sklearn.calibration import CalibratedClassifierCV\n",
    "\n",
    "sgd = SGDClassifier(loss = 'log', class_weight = 'balanced') # default penalty is L2 \n",
    "parameter = {'alpha': [0.001, 0.01, 0.1, 1, 10, 100, 1000]} # setting hyperparameter from 10^-3 to 10^3 in powers of 10\n",
    "clf = GridSearchCV(sgd, parameter, cv = 5, scoring = 'roc_auc', n_jobs = -1, return_train_score = True)\n",
    "clf.fit(X_train_ohe, y_train)"
   ]
  },
  {
   "cell_type": "code",
   "execution_count": 58,
   "id": "793c8b5b",
   "metadata": {},
   "outputs": [
    {
     "data": {
      "image/png": "[encoded data removed]",
      "text/plain": [
       "<Figure size 432x288 with 1 Axes>"
      ]
     },
     "metadata": {
      "needs_background": "light"
     },
     "output_type": "display_data"
    }
   ],
   "source": [
    "# Plotting AUC_Scores for train data and CV data to determine optimal hyperparameter\n",
    "\n",
    "train_loss = clf.cv_results_['mean_train_score']\n",
    "cv_loss = clf.cv_results_['mean_test_score'] \n",
    "plt.plot(parameter['alpha'], train_loss, label = 'Train score')\n",
    "plt.plot(parameter['alpha'], cv_loss, label = 'CV score')\n",
    "\n",
    "plt.scatter(parameter['alpha'], train_loss, label = 'Train score')\n",
    "plt.scatter(parameter['alpha'], cv_loss, label = 'CV score')\n",
    "plt.xscale('log') \n",
    "\n",
    "plt.legend()\n",
    "plt.xlabel(\"hyperparameter: alpha\")\n",
    "plt.ylabel(\"AUC Score\")\n",
    "plt.grid()\n",
    "plt.show()"
   ]
  },
  {
   "cell_type": "code",
   "execution_count": 59,
   "id": "3633c386",
   "metadata": {},
   "outputs": [
    {
     "data": {
      "text/plain": [
       "GridSearchCV(cv=5,\n",
       "             estimator=SGDClassifier(class_weight='balanced', l1_ratio=1,\n",
       "                                     loss='log'),\n",
       "             n_jobs=-1,\n",
       "             param_grid={'alpha': [0.0001, 0.001, 0.01, 0.1, 1, 10, 100]},\n",
       "             return_train_score=True, scoring='roc_auc')"
      ]
     },
     "execution_count": 59,
     "metadata": {},
     "output_type": "execute_result"
    }
   ],
   "source": [
    "# With only L1 regularization\n",
    "sgd = SGDClassifier(loss = 'log', class_weight = 'balanced',  l1_ratio = 1 ) \n",
    "parameter = {'alpha': [0.0001, 0.001, 0.01, 0.1, 1, 10, 100]} # setting hyperparameter from 10^-3 to 10^3 in powers of 10\n",
    "clf = GridSearchCV(sgd, parameter, cv = 5, scoring = 'roc_auc', n_jobs = -1, return_train_score = True)\n",
    "clf.fit(X_train_ohe, y_train)"
   ]
  },
  {
   "cell_type": "code",
   "execution_count": 60,
   "id": "0ac4a3f4",
   "metadata": {},
   "outputs": [
    {
     "data": {
      "image/png": "[encoded data removed]",
      "text/plain": [
       "<Figure size 432x288 with 1 Axes>"
      ]
     },
     "metadata": {
      "needs_background": "light"
     },
     "output_type": "display_data"
    }
   ],
   "source": [
    "# Plotting AUC_Scores for train data and CV data to determine optimal hyperparameter\n",
    "\n",
    "train_loss = clf.cv_results_['mean_train_score']\n",
    "cv_loss = clf.cv_results_['mean_test_score'] \n",
    "plt.plot(parameter['alpha'], train_loss, label = 'Train score')\n",
    "plt.plot(parameter['alpha'], cv_loss, label = 'CV score')\n",
    "\n",
    "plt.scatter(parameter['alpha'], train_loss, label = 'Train score')\n",
    "plt.scatter(parameter['alpha'], cv_loss, label = 'CV score')\n",
    "plt.xscale('log') \n",
    "\n",
    "plt.legend()\n",
    "plt.xlabel(\"hyperparameter: alpha\")\n",
    "plt.ylabel(\"AUC Score\")\n",
    "plt.grid()\n",
    "plt.show()"
   ]
  },
  {
   "cell_type": "markdown",
   "id": "dee6b357",
   "metadata": {},
   "source": [
    "### Linear SVM classifier using SGD"
   ]
  },
  {
   "cell_type": "code",
   "execution_count": 61,
   "id": "4f2c5437",
   "metadata": {},
   "outputs": [
    {
     "data": {
      "text/plain": [
       "GridSearchCV(cv=5, estimator=SGDClassifier(class_weight='balanced'), n_jobs=-1,\n",
       "             param_grid={'alpha': [0.0001, 0.001, 0.01, 0.1, 1, 10, 100]},\n",
       "             return_train_score=True, scoring='roc_auc')"
      ]
     },
     "execution_count": 61,
     "metadata": {},
     "output_type": "execute_result"
    }
   ],
   "source": [
    "sgd = SGDClassifier(loss = 'hinge', class_weight = 'balanced') \n",
    "parameter = {'alpha': [0.0001, 0.001, 0.01, 0.1, 1, 10, 100]} # setting hyperparameter from 10^-3 to 10^3 in powers of 10\n",
    "clf = GridSearchCV(sgd, parameter, cv = 5, scoring = 'roc_auc', n_jobs = -1, return_train_score = True)\n",
    "clf.fit(X_train_ohe, y_train)"
   ]
  },
  {
   "cell_type": "code",
   "execution_count": 62,
   "id": "a05dbdef",
   "metadata": {},
   "outputs": [
    {
     "data": {
      "image/png": "[encoded data removed]",
      "text/plain": [
       "<Figure size 432x288 with 1 Axes>"
      ]
     },
     "metadata": {
      "needs_background": "light"
     },
     "output_type": "display_data"
    }
   ],
   "source": [
    "# Plotting AUC_Scores for train data and CV data to determine optimal hyperparameter\n",
    "\n",
    "train_loss = clf.cv_results_['mean_train_score']\n",
    "cv_loss = clf.cv_results_['mean_test_score'] \n",
    "plt.plot(parameter['alpha'], train_loss, label = 'Train score')\n",
    "plt.plot(parameter['alpha'], cv_loss, label = 'CV score')\n",
    "\n",
    "plt.scatter(parameter['alpha'], train_loss, label = 'Train score')\n",
    "plt.scatter(parameter['alpha'], cv_loss, label = 'CV score')\n",
    "plt.xscale('log') \n",
    "\n",
    "plt.legend()\n",
    "plt.xlabel(\"hyperparameter: alpha\")\n",
    "plt.ylabel(\"AUC Score\")\n",
    "plt.grid()\n",
    "plt.show()"
   ]
  },
  {
   "cell_type": "markdown",
   "id": "90073be5",
   "metadata": {},
   "source": [
    "### Logistic Regression with default parameters"
   ]
  },
  {
   "cell_type": "code",
   "execution_count": 63,
   "id": "167c5f07",
   "metadata": {},
   "outputs": [
    {
     "name": "stdout",
     "output_type": "stream",
     "text": [
      "Train Score: 0.8497618871619649\n"
     ]
    }
   ],
   "source": [
    "from sklearn.metrics import roc_auc_score\n",
    "\n",
    "sgd_clf = SGDClassifier(loss = 'log', class_weight= 'balanced', random_state = 42) # default penalty is L2\n",
    "sgd_clf.fit(X_train_ohe, y_train)\n",
    "sig_clf = CalibratedClassifierCV(sgd_clf, method = \"sigmoid\")\n",
    "sig_clf.fit(X_train_ohe, y_train)\n",
    "\n",
    "y_pred_train = sig_clf.predict_proba(X_train_ohe)\n",
    "y_pred_test = sig_clf.predict_proba(X_test_ohe)\n",
    "\n",
    "print(\"Train Score:\", roc_auc_score(y_train, y_pred_train[:, 1]))"
   ]
  },
  {
   "cell_type": "code",
   "execution_count": 64,
   "id": "5a1e51ca",
   "metadata": {},
   "outputs": [
    {
     "name": "stdout",
     "output_type": "stream",
     "text": [
      "Train Score with Response encoding: 0.5\n"
     ]
    }
   ],
   "source": [
    "# Using Response encoding\n",
    "from sklearn.metrics import roc_auc_score\n",
    "\n",
    "sgd_clf = SGDClassifier(loss = 'log', class_weight= 'balanced', random_state = 42) # default penalty is L2\n",
    "sgd_clf.fit(X_train_r, y_train)\n",
    "sig_clf = CalibratedClassifierCV(sgd_clf, method = \"sigmoid\")\n",
    "sig_clf.fit(X_train_r, y_train)\n",
    "\n",
    "y_pred_train = sig_clf.predict_proba(X_train_r)\n",
    "y_pred_test = sig_clf.predict_proba(X_test_r)\n",
    "\n",
    "print(\"Train Score with Response encoding:\", roc_auc_score(y_train, y_pred_train[:, 1]))"
   ]
  },
  {
   "cell_type": "code",
   "execution_count": 65,
   "id": "9835eef7",
   "metadata": {},
   "outputs": [
    {
     "data": {
      "text/html": [
       "<div>\n",
       "<style scoped>\n",
       "    .dataframe tbody tr th:only-of-type {\n",
       "        vertical-align: middle;\n",
       "    }\n",
       "\n",
       "    .dataframe tbody tr th {\n",
       "        vertical-align: top;\n",
       "    }\n",
       "\n",
       "    .dataframe thead th {\n",
       "        text-align: right;\n",
       "    }\n",
       "</style>\n",
       "<table border=\"1\" class=\"dataframe\">\n",
       "  <thead>\n",
       "    <tr style=\"text-align: right;\">\n",
       "      <th></th>\n",
       "      <th>id</th>\n",
       "      <th>Response</th>\n",
       "    </tr>\n",
       "  </thead>\n",
       "  <tbody>\n",
       "    <tr>\n",
       "      <th>0</th>\n",
       "      <td>381110</td>\n",
       "      <td>0.122573</td>\n",
       "    </tr>\n",
       "    <tr>\n",
       "      <th>1</th>\n",
       "      <td>381111</td>\n",
       "      <td>0.122573</td>\n",
       "    </tr>\n",
       "    <tr>\n",
       "      <th>2</th>\n",
       "      <td>381112</td>\n",
       "      <td>0.122573</td>\n",
       "    </tr>\n",
       "    <tr>\n",
       "      <th>3</th>\n",
       "      <td>381113</td>\n",
       "      <td>0.122573</td>\n",
       "    </tr>\n",
       "    <tr>\n",
       "      <th>4</th>\n",
       "      <td>381114</td>\n",
       "      <td>0.122573</td>\n",
       "    </tr>\n",
       "  </tbody>\n",
       "</table>\n",
       "</div>"
      ],
      "text/plain": [
       "       id  Response\n",
       "0  381110  0.122573\n",
       "1  381111  0.122573\n",
       "2  381112  0.122573\n",
       "3  381113  0.122573\n",
       "4  381114  0.122573"
      ]
     },
     "execution_count": 65,
     "metadata": {},
     "output_type": "execute_result"
    }
   ],
   "source": [
    "sgd_df = pd.DataFrame(data = {'id':test_data['id'], 'Response':y_pred_test[:, 1]})\n",
    "sgd_df.head()"
   ]
  },
  {
   "cell_type": "code",
   "execution_count": 66,
   "id": "aee74def",
   "metadata": {},
   "outputs": [],
   "source": [
    "# setting the path in the system\n",
    "my_path = 'C:/Users/user/Downloads/'"
   ]
  },
  {
   "cell_type": "code",
   "execution_count": 67,
   "id": "5f5ebaf3",
   "metadata": {},
   "outputs": [],
   "source": [
    "sgd_df.to_csv(my_path + 'logistic_sgd_l2.csv', index = False)"
   ]
  },
  {
   "cell_type": "markdown",
   "id": "a2757b86",
   "metadata": {},
   "source": [
    "### Random Forest"
   ]
  },
  {
   "cell_type": "code",
   "execution_count": 69,
   "id": "48b51303",
   "metadata": {},
   "outputs": [],
   "source": [
    "from sklearn.model_selection import GridSearchCV\n",
    "from sklearn.calibration import CalibratedClassifierCV\n",
    "from sklearn.ensemble import RandomForestClassifier"
   ]
  },
  {
   "cell_type": "code",
   "execution_count": 70,
   "id": "df2cacfa",
   "metadata": {},
   "outputs": [
    {
     "name": "stdout",
     "output_type": "stream",
     "text": [
      "Train Score: 0.8771451618117149\n"
     ]
    }
   ],
   "source": [
    "rfc = RandomForestClassifier(n_estimators = 250, max_depth = 15, random_state = 101, n_jobs = -1) \n",
    "rfc.fit(X_train_ohe, y_train)\n",
    "sig_clf = CalibratedClassifierCV(rfc, method = \"sigmoid\")\n",
    "sig_clf.fit(X_train_ohe, y_train)\n",
    "\n",
    "y_pred_train = sig_clf.predict_proba(X_train_ohe)\n",
    "y_pred_test = sig_clf.predict_proba(X_test_ohe)\n",
    "\n",
    "print(\"Train Score:\", roc_auc_score(y_train, y_pred_train[:, 1]))"
   ]
  },
  {
   "cell_type": "code",
   "execution_count": 72,
   "id": "0d9a54a0",
   "metadata": {},
   "outputs": [
    {
     "data": {
      "text/html": [
       "<div>\n",
       "<style scoped>\n",
       "    .dataframe tbody tr th:only-of-type {\n",
       "        vertical-align: middle;\n",
       "    }\n",
       "\n",
       "    .dataframe tbody tr th {\n",
       "        vertical-align: top;\n",
       "    }\n",
       "\n",
       "    .dataframe thead th {\n",
       "        text-align: right;\n",
       "    }\n",
       "</style>\n",
       "<table border=\"1\" class=\"dataframe\">\n",
       "  <thead>\n",
       "    <tr style=\"text-align: right;\">\n",
       "      <th></th>\n",
       "      <th>id</th>\n",
       "      <th>Response</th>\n",
       "    </tr>\n",
       "  </thead>\n",
       "  <tbody>\n",
       "    <tr>\n",
       "      <th>0</th>\n",
       "      <td>381110</td>\n",
       "      <td>0.010267</td>\n",
       "    </tr>\n",
       "    <tr>\n",
       "      <th>1</th>\n",
       "      <td>381111</td>\n",
       "      <td>0.337561</td>\n",
       "    </tr>\n",
       "    <tr>\n",
       "      <th>2</th>\n",
       "      <td>381112</td>\n",
       "      <td>0.309732</td>\n",
       "    </tr>\n",
       "    <tr>\n",
       "      <th>3</th>\n",
       "      <td>381113</td>\n",
       "      <td>0.015867</td>\n",
       "    </tr>\n",
       "    <tr>\n",
       "      <th>4</th>\n",
       "      <td>381114</td>\n",
       "      <td>0.010300</td>\n",
       "    </tr>\n",
       "  </tbody>\n",
       "</table>\n",
       "</div>"
      ],
      "text/plain": [
       "       id  Response\n",
       "0  381110  0.010267\n",
       "1  381111  0.337561\n",
       "2  381112  0.309732\n",
       "3  381113  0.015867\n",
       "4  381114  0.010300"
      ]
     },
     "execution_count": 72,
     "metadata": {},
     "output_type": "execute_result"
    }
   ],
   "source": [
    "rfc_df = pd.DataFrame(data = {'id':test_data['id'], 'Response':y_pred_test[:, 1]})\n",
    "rfc_df.head()"
   ]
  },
  {
   "cell_type": "code",
   "execution_count": 73,
   "id": "ae18e946",
   "metadata": {},
   "outputs": [],
   "source": [
    "rfc_df.to_csv(my_path + 'rfc_ohe.csv', index = False)"
   ]
  },
  {
   "cell_type": "markdown",
   "id": "593e991f",
   "metadata": {},
   "source": [
    "### XGBoost Classifier (without hyperparameter tuning)"
   ]
  },
  {
   "cell_type": "code",
   "execution_count": 76,
   "id": "9ec50418",
   "metadata": {},
   "outputs": [
    {
     "name": "stdout",
     "output_type": "stream",
     "text": [
      "Train Score: 0.9239243800063169\n"
     ]
    }
   ],
   "source": [
    "from xgboost.sklearn import XGBClassifier\n",
    "from sklearn.model_selection import GridSearchCV\n",
    "\n",
    "xgb = XGBClassifier(n_estimators = 150, max_depth = 11, colsample_bytree = 0.6, n_jobs = -1, random_state = 21)\n",
    "xgb.fit(X_train_ohe, y_train)\n",
    "sig_clf = CalibratedClassifierCV(xgb, method = \"sigmoid\")\n",
    "sig_clf.fit(X_train_ohe, y_train)\n",
    "\n",
    "y_pred_train = sig_clf.predict_proba(X_train_ohe)\n",
    "y_pred_test = sig_clf.predict_proba(X_test_ohe)\n",
    "\n",
    "print(\"Train Score:\", roc_auc_score(y_train, y_pred_train[:, 1]))"
   ]
  },
  {
   "cell_type": "code",
   "execution_count": 77,
   "id": "d0c78311",
   "metadata": {},
   "outputs": [
    {
     "data": {
      "text/html": [
       "<div>\n",
       "<style scoped>\n",
       "    .dataframe tbody tr th:only-of-type {\n",
       "        vertical-align: middle;\n",
       "    }\n",
       "\n",
       "    .dataframe tbody tr th {\n",
       "        vertical-align: top;\n",
       "    }\n",
       "\n",
       "    .dataframe thead th {\n",
       "        text-align: right;\n",
       "    }\n",
       "</style>\n",
       "<table border=\"1\" class=\"dataframe\">\n",
       "  <thead>\n",
       "    <tr style=\"text-align: right;\">\n",
       "      <th></th>\n",
       "      <th>id</th>\n",
       "      <th>Response</th>\n",
       "    </tr>\n",
       "  </thead>\n",
       "  <tbody>\n",
       "    <tr>\n",
       "      <th>0</th>\n",
       "      <td>381110</td>\n",
       "      <td>0.033058</td>\n",
       "    </tr>\n",
       "    <tr>\n",
       "      <th>1</th>\n",
       "      <td>381111</td>\n",
       "      <td>0.431747</td>\n",
       "    </tr>\n",
       "    <tr>\n",
       "      <th>2</th>\n",
       "      <td>381112</td>\n",
       "      <td>0.213273</td>\n",
       "    </tr>\n",
       "    <tr>\n",
       "      <th>3</th>\n",
       "      <td>381113</td>\n",
       "      <td>0.039385</td>\n",
       "    </tr>\n",
       "    <tr>\n",
       "      <th>4</th>\n",
       "      <td>381114</td>\n",
       "      <td>0.033055</td>\n",
       "    </tr>\n",
       "  </tbody>\n",
       "</table>\n",
       "</div>"
      ],
      "text/plain": [
       "       id  Response\n",
       "0  381110  0.033058\n",
       "1  381111  0.431747\n",
       "2  381112  0.213273\n",
       "3  381113  0.039385\n",
       "4  381114  0.033055"
      ]
     },
     "execution_count": 77,
     "metadata": {},
     "output_type": "execute_result"
    }
   ],
   "source": [
    "xgb_df = pd.DataFrame(data = {'id':test_data['id'], 'Response':y_pred_test[:, 1]})\n",
    "xgb_df.head()"
   ]
  },
  {
   "cell_type": "code",
   "execution_count": 78,
   "id": "b2fd30ce",
   "metadata": {},
   "outputs": [],
   "source": [
    "xgb_df.to_csv(my_path + 'xgb_ohe.csv', index = False)"
   ]
  },
  {
   "cell_type": "code",
   "execution_count": null,
   "id": "0c1cb906",
   "metadata": {},
   "outputs": [],
   "source": []
  }
 ],
 "metadata": {
  "kernelspec": {
   "display_name": "Python 3 (ipykernel)",
   "language": "python",
   "name": "python3"
  },
  "language_info": {
   "codemirror_mode": {
    "name": "ipython",
    "version": 3
   },
   "file_extension": ".py",
   "mimetype": "text/x-python",
   "name": "python",
   "nbconvert_exporter": "python",
   "pygments_lexer": "ipython3",
   "version": "3.9.7"
  }
 },
 "nbformat": 4,
 "nbformat_minor": 5
}
